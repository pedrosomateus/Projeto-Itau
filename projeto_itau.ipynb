{
 "cells": [
  {
   "cell_type": "code",
   "execution_count": 1,
   "id": "4382b190",
   "metadata": {},
   "outputs": [],
   "source": [
    "import pandas as pd\n",
    "import quantstats as qs\n",
    "from datetime import datetime, timedelta\n",
    "import pandas_market_calendars as mcal\n",
    "import sys\n",
    "import numpy\n",
    "import yfinance as yf\n",
    "import matplotlib.pyplot as plt\n",
    "import matplotlib.ticker as mtick\n",
    "numpy.set_printoptions(threshold=sys.maxsize)"
   ]
  },
  {
   "cell_type": "markdown",
   "metadata": {},
   "source": [
    "**Importando dados e inserindo o dia como coluna**"
   ]
  },
  {
   "cell_type": "code",
   "execution_count": 2,
   "id": "c36fe6db",
   "metadata": {},
   "outputs": [],
   "source": [
    "dados_empresas = pd.read_csv(\"historico_acoes.csv\")\n",
    "dados_empresas['data'] = pd.to_datetime(dados_empresas['data'])\n",
    "dados_empresas = dados_empresas.set_index('data')\n",
    "dados_empresas['day'] = dados_empresas.index.day"
   ]
  },
  {
   "cell_type": "markdown",
   "metadata": {},
   "source": [
    "**Importando o calendário da B3 com os dias em que houveram negociações**"
   ]
  },
  {
   "cell_type": "code",
   "execution_count": 24,
   "id": "2d72fbe3",
   "metadata": {},
   "outputs": [
    {
     "data": {
      "text/html": [
       "<div>\n",
       "<style scoped>\n",
       "    .dataframe tbody tr th:only-of-type {\n",
       "        vertical-align: middle;\n",
       "    }\n",
       "\n",
       "    .dataframe tbody tr th {\n",
       "        vertical-align: top;\n",
       "    }\n",
       "\n",
       "    .dataframe thead th {\n",
       "        text-align: right;\n",
       "    }\n",
       "</style>\n",
       "<table border=\"1\" class=\"dataframe\">\n",
       "  <thead>\n",
       "    <tr style=\"text-align: right;\">\n",
       "      <th></th>\n",
       "      <th>year</th>\n",
       "      <th>month</th>\n",
       "      <th>day</th>\n",
       "    </tr>\n",
       "    <tr>\n",
       "      <th>Dias</th>\n",
       "      <th></th>\n",
       "      <th></th>\n",
       "      <th></th>\n",
       "    </tr>\n",
       "  </thead>\n",
       "  <tbody>\n",
       "    <tr>\n",
       "      <th>2011-10-03 00:00:00+00:00</th>\n",
       "      <td>2011</td>\n",
       "      <td>10</td>\n",
       "      <td>3</td>\n",
       "    </tr>\n",
       "    <tr>\n",
       "      <th>2011-10-04 00:00:00+00:00</th>\n",
       "      <td>2011</td>\n",
       "      <td>10</td>\n",
       "      <td>4</td>\n",
       "    </tr>\n",
       "    <tr>\n",
       "      <th>2011-10-05 00:00:00+00:00</th>\n",
       "      <td>2011</td>\n",
       "      <td>10</td>\n",
       "      <td>5</td>\n",
       "    </tr>\n",
       "    <tr>\n",
       "      <th>2011-10-06 00:00:00+00:00</th>\n",
       "      <td>2011</td>\n",
       "      <td>10</td>\n",
       "      <td>6</td>\n",
       "    </tr>\n",
       "    <tr>\n",
       "      <th>2011-10-07 00:00:00+00:00</th>\n",
       "      <td>2011</td>\n",
       "      <td>10</td>\n",
       "      <td>7</td>\n",
       "    </tr>\n",
       "    <tr>\n",
       "      <th>...</th>\n",
       "      <td>...</td>\n",
       "      <td>...</td>\n",
       "      <td>...</td>\n",
       "    </tr>\n",
       "    <tr>\n",
       "      <th>2023-09-25 00:00:00+00:00</th>\n",
       "      <td>2023</td>\n",
       "      <td>9</td>\n",
       "      <td>25</td>\n",
       "    </tr>\n",
       "    <tr>\n",
       "      <th>2023-09-26 00:00:00+00:00</th>\n",
       "      <td>2023</td>\n",
       "      <td>9</td>\n",
       "      <td>26</td>\n",
       "    </tr>\n",
       "    <tr>\n",
       "      <th>2023-09-27 00:00:00+00:00</th>\n",
       "      <td>2023</td>\n",
       "      <td>9</td>\n",
       "      <td>27</td>\n",
       "    </tr>\n",
       "    <tr>\n",
       "      <th>2023-09-28 00:00:00+00:00</th>\n",
       "      <td>2023</td>\n",
       "      <td>9</td>\n",
       "      <td>28</td>\n",
       "    </tr>\n",
       "    <tr>\n",
       "      <th>2023-09-29 00:00:00+00:00</th>\n",
       "      <td>2023</td>\n",
       "      <td>9</td>\n",
       "      <td>29</td>\n",
       "    </tr>\n",
       "  </tbody>\n",
       "</table>\n",
       "<p>2973 rows × 3 columns</p>\n",
       "</div>"
      ],
      "text/plain": [
       "                           year  month  day\n",
       "Dias                                       \n",
       "2011-10-03 00:00:00+00:00  2011     10    3\n",
       "2011-10-04 00:00:00+00:00  2011     10    4\n",
       "2011-10-05 00:00:00+00:00  2011     10    5\n",
       "2011-10-06 00:00:00+00:00  2011     10    6\n",
       "2011-10-07 00:00:00+00:00  2011     10    7\n",
       "...                         ...    ...  ...\n",
       "2023-09-25 00:00:00+00:00  2023      9   25\n",
       "2023-09-26 00:00:00+00:00  2023      9   26\n",
       "2023-09-27 00:00:00+00:00  2023      9   27\n",
       "2023-09-28 00:00:00+00:00  2023      9   28\n",
       "2023-09-29 00:00:00+00:00  2023      9   29\n",
       "\n",
       "[2973 rows x 3 columns]"
      ]
     },
     "execution_count": 24,
     "metadata": {},
     "output_type": "execute_result"
    }
   ],
   "source": [
    "calendar = mcal.get_calendar('B3')\n",
    "dias = calendar.valid_days(start_date = '2011-10-01', end_date = '2023-09-30')\n",
    "dias = pd.DataFrame({'Dias': dias})\n",
    "dias = dias.set_index('Dias')\n",
    "dias['year'] = dias.index.year\n",
    "dias['month'] = dias.index.month\n",
    "dias['day'] = dias.index.day\n",
    "dias"
   ]
  },
  {
   "cell_type": "markdown",
   "metadata": {},
   "source": [
    "**Filtrando o último dia de negociação de cada mês**"
   ]
  },
  {
   "cell_type": "code",
   "execution_count": 25,
   "id": "b18779f3",
   "metadata": {},
   "outputs": [
    {
     "data": {
      "text/plain": [
       "Index(['2011-10-31', '2011-11-30', '2011-12-29', '2012-01-31', '2012-02-29',\n",
       "       '2012-03-30', '2012-04-30', '2012-05-31', '2012-06-29', '2012-07-31',\n",
       "       ...\n",
       "       '2022-12-29', '2023-01-31', '2023-02-28', '2023-03-31', '2023-04-28',\n",
       "       '2023-05-31', '2023-06-30', '2023-07-31', '2023-08-31', '2023-09-29'],\n",
       "      dtype='object', name='day', length=144)"
      ]
     },
     "execution_count": 25,
     "metadata": {},
     "output_type": "execute_result"
    }
   ],
   "source": [
    "ultimo_dia = dias.groupby([dias['year'], dias['month']]).idxmax()\n",
    "ultimo_dia = ultimo_dia['day'].reset_index()['day']\n",
    "ultimo_dia = pd.DataFrame(index=ultimo_dia)\n",
    "ultimo_dia = ultimo_dia.index.strftime('%Y-%m-%d')\n",
    "ultimo_dia"
   ]
  },
  {
   "cell_type": "markdown",
   "metadata": {},
   "source": [
    "**Função para filtrar uma base de dados pelos últimos dias de cada mês do calendário da B3**"
   ]
  },
  {
   "cell_type": "code",
   "execution_count": 26,
   "id": "51283c27",
   "metadata": {},
   "outputs": [],
   "source": [
    "def seleciona_filtro(dados):\n",
    "    A = dados.index.strftime('%Y-%m-%d')\n",
    "    B = list(set(A) & set(ultimo_dia))\n",
    "    mask = dados.index.isin(B)\n",
    "    dados = dados[mask]\n",
    "    return dados"
   ]
  },
  {
   "cell_type": "markdown",
   "metadata": {},
   "source": [
    "**Aplicando a função a base de dados das empresas**"
   ]
  },
  {
   "cell_type": "code",
   "execution_count": 27,
   "id": "775d9e85",
   "metadata": {},
   "outputs": [],
   "source": [
    "dados_empresas_filtrado = dados_empresas.groupby('ticker').apply(seleciona_filtro)\n",
    "dados_empresas_filtrado.reset_index(level=[0], drop = True, inplace = True)\n",
    "dados_empresas_filtrado.head()"
   ]
  },
  {
   "cell_type": "markdown",
   "metadata": {},
   "source": [
    "**Calculando os retornos mensais das ações entre os dias de negociação e aplicando um cálculo de retorno médio mensal**\n",
    "\n",
    "(Algumas ações apresentam _gap_ entre um mês e outro, sendo necessário a conversão para retorno mensal)"
   ]
  },
  {
   "cell_type": "code",
   "execution_count": 29,
   "id": "7fdf83b5",
   "metadata": {},
   "outputs": [],
   "source": [
    "dados_empresas_filtrado['retorno'] = dados_empresas_filtrado.groupby('ticker')['fechamento_ajustado'].pct_change()\n",
    "dados_empresas_filtrado['retorno'] = dados_empresas_filtrado.groupby('ticker')['retorno'].shift(-1)\n",
    "\n",
    "dados_empresas_filtrado['diferenca'] = (dados_empresas_filtrado.index - pd.Series(dados_empresas_filtrado.index).shift()).values\n",
    "dados_empresas_filtrado['diferenca'] = (dados_empresas_filtrado['diferenca'] / timedelta(days=1)).shift(-1)\n",
    "dados_empresas_filtrado.dropna(inplace=True)\n",
    "dados_empresas_filtrado['retorno_medio_mensal'] = (1 + dados_empresas_filtrado['retorno']) ** (30 / dados_empresas_filtrado['diferenca']) - 1\n",
    "\n",
    "dados_empresas.dropna(inplace=True)\n",
    "dados_empresas_filtrado.dropna(inplace=True)\n",
    "dados_empresas_filtrado"
   ]
  },
  {
   "cell_type": "markdown",
   "metadata": {},
   "source": [
    "**Criando um ranking com os indicadores para realizar a seleção da carteira a partir dos melhores indicadores**"
   ]
  },
  {
   "cell_type": "code",
   "execution_count": 32,
   "id": "72406cce",
   "metadata": {},
   "outputs": [],
   "source": [
    "dados_empresas_filtrado['ranking_ev_ebit'] = dados_empresas_filtrado.groupby('data')['EBIT_EV'].rank(ascending = False)\n",
    "dados_empresas_filtrado['ranking_roic'] = dados_empresas_filtrado.groupby('data')['ROIC'].rank(ascending = False)\n",
    "\n",
    "dados_empresas_filtrado['ranking_final'] = dados_empresas_filtrado['ranking_ev_ebit'] + dados_empresas_filtrado['ranking_roic']\n",
    "dados_empresas_filtrado['ranking_final'] = dados_empresas_filtrado.groupby('data')['ranking_final'].rank()"
   ]
  },
  {
   "cell_type": "markdown",
   "metadata": {},
   "source": [
    "**Filtragem da base de dados para manter apenas as 10 melhores ações**"
   ]
  },
  {
   "cell_type": "code",
   "execution_count": 34,
   "id": "0271db45",
   "metadata": {},
   "outputs": [],
   "source": [
    "carteira_top_10_filtrado = dados_empresas_filtrado[dados_empresas_filtrado['ranking_final'] <= 10]\n",
    "carteira_top_10_filtrado"
   ]
  },
  {
   "cell_type": "markdown",
   "metadata": {},
   "source": [
    "**Cálculo de rentabilidade da carteira selecionada considerando pesos iguais**"
   ]
  },
  {
   "cell_type": "code",
   "execution_count": 48,
   "id": "b3500084",
   "metadata": {},
   "outputs": [
    {
     "name": "stdout",
     "output_type": "stream",
     "text": [
      "            retorno_medio_mensal  retorno_modelo\n",
      "data                                            \n",
      "2011-11-30             -0.006658       -0.006658\n",
      "2011-12-29             -0.002011       -0.008655\n",
      "2012-01-31              0.064678        0.055463\n",
      "2012-02-29              0.048414        0.106562\n",
      "2012-03-30             -0.029128        0.074330\n",
      "...                          ...             ...\n",
      "2023-04-28             -0.019724       12.412844\n",
      "2023-05-31             -0.000201       12.410147\n",
      "2023-06-30              0.112348       13.916754\n",
      "2023-07-31              0.001790       13.943451\n",
      "2023-08-31              0.010852       14.105612\n",
      "\n",
      "[141 rows x 2 columns]\n"
     ]
    }
   ],
   "source": [
    "rentabilidade_carteira = carteira_top_10_filtrado.groupby('data')['retorno_medio_mensal'].mean()\n",
    "rentabilidade_carteira = rentabilidade_carteira.to_frame()\n",
    "rentabilidade_carteira['retorno_modelo'] = (rentabilidade_carteira['retorno_medio_mensal'] + 1).cumprod() - 1\n",
    "rentabilidade_carteira = rentabilidade_carteira.shift(1)\n",
    "rentabilidade_carteira = rentabilidade_carteira.dropna()\n",
    "print(rentabilidade_carteira)"
   ]
  },
  {
   "cell_type": "code",
   "execution_count": 37,
   "id": "9a98752a",
   "metadata": {},
   "outputs": [
    {
     "data": {
      "text/plain": [
       "<Axes: xlabel='data'>"
      ]
     },
     "execution_count": 37,
     "metadata": {},
     "output_type": "execute_result"
    },
    {
     "data": {
      "image/png": "[encoded data removed]",
      "text/plain": [
       "<Figure size 1000x600 with 1 Axes>"
      ]
     },
     "metadata": {},
     "output_type": "display_data"
    }
   ],
   "source": [
    "rentabilidade_carteira['retorno_modelo'].plot()"
   ]
  },
  {
   "cell_type": "markdown",
   "metadata": {},
   "source": [
    "**Importação das cotações do Ibovespa, filtragem pelo mesmo período da base de dados das ações e cálculo da rentabilidade acumulada**"
   ]
  },
  {
   "cell_type": "code",
   "execution_count": 38,
   "id": "79f27de5",
   "metadata": {},
   "outputs": [
    {
     "name": "stdout",
     "output_type": "stream",
     "text": [
      "[*********************100%%**********************]  1 of 1 completed\n"
     ]
    },
    {
     "data": {
      "text/html": [
       "<div>\n",
       "<style scoped>\n",
       "    .dataframe tbody tr th:only-of-type {\n",
       "        vertical-align: middle;\n",
       "    }\n",
       "\n",
       "    .dataframe tbody tr th {\n",
       "        vertical-align: top;\n",
       "    }\n",
       "\n",
       "    .dataframe thead th {\n",
       "        text-align: right;\n",
       "    }\n",
       "</style>\n",
       "<table border=\"1\" class=\"dataframe\">\n",
       "  <thead>\n",
       "    <tr style=\"text-align: right;\">\n",
       "      <th></th>\n",
       "      <th>Open</th>\n",
       "      <th>High</th>\n",
       "      <th>Low</th>\n",
       "      <th>Close</th>\n",
       "      <th>Adj Close</th>\n",
       "      <th>Volume</th>\n",
       "    </tr>\n",
       "    <tr>\n",
       "      <th>Date</th>\n",
       "      <th></th>\n",
       "      <th></th>\n",
       "      <th></th>\n",
       "      <th></th>\n",
       "      <th></th>\n",
       "      <th></th>\n",
       "    </tr>\n",
       "  </thead>\n",
       "  <tbody>\n",
       "    <tr>\n",
       "      <th>2011-10-31</th>\n",
       "      <td>59513.0</td>\n",
       "      <td>59513.0</td>\n",
       "      <td>58094.0</td>\n",
       "      <td>58338.0</td>\n",
       "      <td>58338.0</td>\n",
       "      <td>2258000</td>\n",
       "    </tr>\n",
       "    <tr>\n",
       "      <th>2011-11-30</th>\n",
       "      <td>55307.0</td>\n",
       "      <td>57592.0</td>\n",
       "      <td>55307.0</td>\n",
       "      <td>56875.0</td>\n",
       "      <td>56875.0</td>\n",
       "      <td>4893000</td>\n",
       "    </tr>\n",
       "    <tr>\n",
       "      <th>2011-12-29</th>\n",
       "      <td>56534.0</td>\n",
       "      <td>56945.0</td>\n",
       "      <td>56313.0</td>\n",
       "      <td>56754.0</td>\n",
       "      <td>56754.0</td>\n",
       "      <td>2779200</td>\n",
       "    </tr>\n",
       "    <tr>\n",
       "      <th>2012-01-31</th>\n",
       "      <td>62772.0</td>\n",
       "      <td>63394.0</td>\n",
       "      <td>62664.0</td>\n",
       "      <td>63072.0</td>\n",
       "      <td>63072.0</td>\n",
       "      <td>3437800</td>\n",
       "    </tr>\n",
       "    <tr>\n",
       "      <th>2012-02-29</th>\n",
       "      <td>65970.0</td>\n",
       "      <td>66662.0</td>\n",
       "      <td>65533.0</td>\n",
       "      <td>65812.0</td>\n",
       "      <td>65812.0</td>\n",
       "      <td>3345400</td>\n",
       "    </tr>\n",
       "  </tbody>\n",
       "</table>\n",
       "</div>"
      ],
      "text/plain": [
       "               Open     High      Low    Close  Adj Close   Volume\n",
       "Date                                                              \n",
       "2011-10-31  59513.0  59513.0  58094.0  58338.0    58338.0  2258000\n",
       "2011-11-30  55307.0  57592.0  55307.0  56875.0    56875.0  4893000\n",
       "2011-12-29  56534.0  56945.0  56313.0  56754.0    56754.0  2779200\n",
       "2012-01-31  62772.0  63394.0  62664.0  63072.0    63072.0  3437800\n",
       "2012-02-29  65970.0  66662.0  65533.0  65812.0    65812.0  3345400"
      ]
     },
     "execution_count": 38,
     "metadata": {},
     "output_type": "execute_result"
    }
   ],
   "source": [
    "ibov = yf.download('^BVSP', '2009-01-01', '2023-10-18')\n",
    "ibov.index = pd.to_datetime(ibov.index)\n",
    "mask = ibov.index.isin(dados_empresas_filtrado.index)\n",
    "filtered_ibov = ibov[mask]\n",
    "\n",
    "retornos_ibov = filtered_ibov['Adj Close'].pct_change().dropna()\n",
    "retorno_acumulado_ibov = (1 + retornos_ibov).cumprod() - 1\n",
    "\n",
    "rentabilidade_carteira['ibovespa'] = retorno_acumulado_ibov.values\n",
    "rentabilidade_carteira = rentabilidade_carteira.drop('retorno_medio_mensal', axis = 1)"
   ]
  },
  {
   "cell_type": "markdown",
   "metadata": {},
   "source": [
    "**Gráfico do retorno acumulado do modelo _versus_ Ibovespa no período**"
   ]
  },
  {
   "cell_type": "code",
   "execution_count": 47,
   "id": "d26bac61",
   "metadata": {},
   "outputs": [
    {
     "data": {
      "image/png": "[encoded data removed]",
      "text/plain": [
       "<Figure size 1000x600 with 1 Axes>"
      ]
     },
     "metadata": {},
     "output_type": "display_data"
    }
   ],
   "source": [
    "fig, ax = plt.subplots()\n",
    "ax.plot(rentabilidade_carteira.index, rentabilidade_carteira['retorno_modelo'], label = 'Modelo')\n",
    "ax.plot(rentabilidade_carteira.index, rentabilidade_carteira['ibovespa'], label = 'Ibovespa')\n",
    "ax.legend(loc = 'upper left')\n",
    "ax.yaxis.set_major_formatter(mtick.PercentFormatter(1))"
   ]
  }
 ],
 "metadata": {
  "kernelspec": {
   "display_name": "Python 3 (ipykernel)",
   "language": "python",
   "name": "python3"
  },
  "language_info": {
   "codemirror_mode": {
    "name": "ipython",
    "version": 3
   },
   "file_extension": ".py",
   "mimetype": "text/x-python",
   "name": "python",
   "nbconvert_exporter": "python",
   "pygments_lexer": "ipython3",
   "version": "3.11.6"
  }
 },
 "nbformat": 4,
 "nbformat_minor": 5
}
